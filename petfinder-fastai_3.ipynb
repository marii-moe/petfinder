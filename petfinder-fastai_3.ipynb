{
 "cells": [
  {
   "cell_type": "code",
   "execution_count": 1,
   "metadata": {},
   "outputs": [],
   "source": [
    "import numpy as np\n",
    "import pandas as pd\n",
    "import os\n",
    "import torch\n",
    "import torch.nn as nn\n",
    "import torch.nn.functional as F\n",
    "import torch.optim as optim\n",
    "from torch.utils.data import Dataset, DataLoader\n",
    "from pathlib import Path\n",
    "import json\n",
    "from functools import partial\n",
    "import pickle as pkl\n",
    "from fastai import *\n",
    "from fastai.collab import *\n",
    "from fastai.tabular import *"
   ]
  },
  {
   "cell_type": "code",
   "execution_count": 2,
   "metadata": {},
   "outputs": [],
   "source": [
    "path=Path('~/.fastai/data/petfinder')"
   ]
  },
  {
   "cell_type": "code",
   "execution_count": 3,
   "metadata": {},
   "outputs": [],
   "source": [
    "def uniquesInDf(df):\n",
    "    uniqs = {}\n",
    "    for col in df.columns:\n",
    "        uniqs[col] = df[col].sort_values().unique().tolist()\n",
    "    return uniqs"
   ]
  },
  {
   "cell_type": "markdown",
   "metadata": {},
   "source": [
    "These are the variables in the csv file from kaggle"
   ]
  },
  {
   "cell_type": "code",
   "execution_count": 319,
   "metadata": {},
   "outputs": [],
   "source": [
    "#Age probably needs some form of help because it clusters around certain numbers\n",
    "NotVars=['Name','Description','AdoptionSpeed',]\n",
    "catVars=['Type','Breed1','Breed2','Gender','Color1', 'Color2', 'Color3',\n",
    "         'MaturitySize','FurLength','Vaccinated', 'Dewormed', 'Sterilized',\n",
    "        'Health','State','RescuerID',]\n",
    "contVars=['Age','Quantity','Fee','VideoAmt','PhotoAmt']\n",
    "cols={'notVars':NotVars,'cat':catVars,'cont':contVars}"
   ]
  },
  {
   "cell_type": "code",
   "execution_count": 320,
   "metadata": {},
   "outputs": [
    {
     "name": "stdout",
     "output_type": "stream",
     "text": [
      "CUDA is available!  Training on GPU ...\n"
     ]
    }
   ],
   "source": [
    "train_on_gpu = torch.cuda.is_available()\n",
    "if not train_on_gpu:\n",
    "    print('CUDA is not available.  Training on CPU ...')\n",
    "else:\n",
    "    print('CUDA is available!  Training on GPU ...')\n",
    "device = torch.device(\"cuda\" if torch.cuda.is_available() else \"cpu\")"
   ]
  },
  {
   "cell_type": "markdown",
   "metadata": {},
   "source": [
    "This is the metric used by kaggle"
   ]
  },
  {
   "cell_type": "code",
   "execution_count": 343,
   "metadata": {},
   "outputs": [],
   "source": [
    "class QWK(Callback):\n",
    "    def __init__(self, func):\n",
    "        self.func, self.name = func, func.__name__\n",
    "\n",
    "    def on_epoch_begin(self, **kwargs):\n",
    "        self.outs=torch.FloatTensor().cpu()\n",
    "        self.targs=torch.FloatTensor().cpu()\n",
    "\n",
    "    def on_batch_end(self, last_output, last_target, train, **kwargs):\n",
    "        maxs=last_output.detach()\n",
    "        self.outs=torch.cat((self.outs.cpu(),maxs.cpu()))\n",
    "        self.targs=torch.cat((self.targs.cpu(),last_target.cpu()))\n",
    "\n",
    "    def on_epoch_end(self, **kwargs):\n",
    "        self.metric = self.func(torch.round((torch.clamp(self.outs,max=4.0,min=0.0))).long().numpy(),self.targs.long().numpy(),min_rating=0,max_rating=4)"
   ]
  },
  {
   "cell_type": "code",
   "execution_count": 344,
   "metadata": {},
   "outputs": [],
   "source": [
    "def quadratic_weighted_kappa(rater_a, rater_b, min_rating=None, max_rating=None):\n",
    "    \"\"\"\n",
    "    Calculates the quadratic weighted kappa\n",
    "    quadratic_weighted_kappa calculates the quadratic weighted kappa\n",
    "    value, which is a measure of inter-rater agreement between two raters\n",
    "    that provide discrete numeric ratings.  Potential values range from -1\n",
    "    (representing complete disagreement) to 1 (representing complete\n",
    "    agreement).  A kappa value of 0 is expected if all agreement is due to\n",
    "    chance.\n",
    "    quadratic_weighted_kappa(rater_a, rater_b), where rater_a and rater_b\n",
    "    each correspond to a list of integer ratings.  These lists must have the\n",
    "    same length.\n",
    "    The ratings should be integers, and it is assumed that they contain\n",
    "    the complete range of possible ratings.\n",
    "    quadratic_weighted_kappa(X, min_rating, max_rating), where min_rating\n",
    "    is the minimum possible rating, and max_rating is the maximum possible\n",
    "    rating\n",
    "    \"\"\"\n",
    "    def confusion_matrix(rater_a, rater_b, min_rating=None, max_rating=None):\n",
    "        \"\"\"\n",
    "        Returns the confusion matrix between rater's ratings\n",
    "        \"\"\"\n",
    "        assert(len(rater_a) == len(rater_b))\n",
    "        if min_rating is None:\n",
    "            min_rating = min(rater_a + rater_b)\n",
    "        if max_rating is None:\n",
    "            max_rating = max(rater_a + rater_b)\n",
    "        num_ratings = int(max_rating - min_rating + 1)\n",
    "        conf_mat = [[0 for i in range(num_ratings)]\n",
    "                    for j in range(num_ratings)]\n",
    "        for a, b in zip(rater_a, rater_b):\n",
    "            conf_mat[a - min_rating][b - min_rating] += 1\n",
    "        return conf_mat\n",
    "\n",
    "\n",
    "    def histogram(ratings, min_rating=None, max_rating=None):\n",
    "        \"\"\"\n",
    "        Returns the counts of each type of rating that a rater made\n",
    "        \"\"\"\n",
    "        if min_rating is None:\n",
    "            min_rating = min(ratings)\n",
    "        if max_rating is None:\n",
    "            max_rating = max(ratings)\n",
    "        num_ratings = int(max_rating - min_rating + 1)\n",
    "        hist_ratings = [0 for x in range(num_ratings)]\n",
    "        for r in ratings:\n",
    "            hist_ratings[r - min_rating] += 1\n",
    "        return hist_ratings\n",
    "\n",
    "    rater_a = np.array(rater_a, dtype=int)\n",
    "    rater_b = np.array(rater_b, dtype=int)\n",
    "    assert(len(rater_a) == len(rater_b))\n",
    "    if min_rating is None:\n",
    "        min_rating = min(min(rater_a), min(rater_b))\n",
    "    if max_rating is None:\n",
    "        max_rating = max(max(rater_a), max(rater_b))\n",
    "    conf_mat = confusion_matrix(rater_a, rater_b,\n",
    "                                min_rating, max_rating)\n",
    "    num_ratings = len(conf_mat)\n",
    "    num_scored_items = float(len(rater_a))\n",
    "\n",
    "    hist_rater_a = histogram(rater_a, min_rating, max_rating)\n",
    "    hist_rater_b = histogram(rater_b, min_rating, max_rating)\n",
    "\n",
    "    numerator = 0.0\n",
    "    denominator = 0.0\n",
    "\n",
    "    for i in range(num_ratings):\n",
    "        for j in range(num_ratings):\n",
    "            expected_count = (hist_rater_a[i] * hist_rater_b[j]\n",
    "                              / num_scored_items)\n",
    "            d = pow(i - j, 2.0) / pow(num_ratings - 1, 2.0)\n",
    "            numerator += d * conf_mat[i][j] / num_scored_items\n",
    "            denominator += d * expected_count / num_scored_items\n",
    "\n",
    "    return 1.0 - numerator / denominator"
   ]
  },
  {
   "cell_type": "markdown",
   "metadata": {},
   "source": [
    "## Data Processing"
   ]
  },
  {
   "cell_type": "code",
   "execution_count": null,
   "metadata": {},
   "outputs": [],
   "source": [
    "fullTrain=path/'train'/'train.csv'\n",
    "fullTest=path/'test'/'test.csv'"
   ]
  },
  {
   "cell_type": "code",
   "execution_count": null,
   "metadata": {},
   "outputs": [],
   "source": [
    "fullTrain=pd.read_csv(fullTrain)\n",
    "fullTest=pd.read_csv(fullTest)"
   ]
  },
  {
   "cell_type": "code",
   "execution_count": null,
   "metadata": {},
   "outputs": [],
   "source": [
    "types={\n",
    "    'PhotoAmt':np.int64\n",
    "}\n",
    "fullTrain=fullTrain.astype(dtype=types)\n",
    "fullTest=fullTest.astype(dtype=types)\n",
    "print(fullTrain.dtypes)\n",
    "print(fullTest.dtypes)\n",
    "fullData=pd.concat([fullTrain,fullTest])"
   ]
  },
  {
   "cell_type": "markdown",
   "metadata": {},
   "source": [
    "Standardizing the continuous variables, ie variables that vary over a range -inf->+inf"
   ]
  },
  {
   "cell_type": "code",
   "execution_count": null,
   "metadata": {},
   "outputs": [],
   "source": [
    "for col in fullData[contVars]:\n",
    "    fullTrain[col]=(fullTrain[col]-fullData[col].mean())/fullData[col].std()\n",
    "    fullTest[col]=(fullTest[col]-fullData[col].mean())/fullData[col].std()\n",
    "    fullData[col]=(fullData[col]-fullData[col].mean())/fullData[col].std()\n",
    "fullData[contVars][0:5]"
   ]
  },
  {
   "cell_type": "code",
   "execution_count": null,
   "metadata": {},
   "outputs": [],
   "source": [
    "fullTrain.to_csv(path/'train'/'normailizedTrain.csv',index=False)\n",
    "fullTest.to_csv(path/'train'/'normailizedTest.csv',index=False)\n",
    "fullData.to_csv(path/'train'/'normailizedData.csv',index=False)"
   ]
  },
  {
   "cell_type": "markdown",
   "metadata": {},
   "source": [
    "Finding the unique values for each categorical variable. This is latter used for creating embeddings. "
   ]
  },
  {
   "cell_type": "code",
   "execution_count": null,
   "metadata": {},
   "outputs": [],
   "source": [
    "uniqCols = uniquesInDf(fullData)\n",
    "print(uniqCols.keys())"
   ]
  },
  {
   "cell_type": "code",
   "execution_count": null,
   "metadata": {},
   "outputs": [],
   "source": [
    "with open('unique_cols.json', 'w') as file:\n",
    "     file.write(json.dumps(uniqCols))"
   ]
  },
  {
   "cell_type": "code",
   "execution_count": null,
   "metadata": {},
   "outputs": [],
   "source": [
    "keysToIndex={}\n",
    "for key in uniqCols.keys():\n",
    "    keysToIndex[key]={}\n",
    "    for i,uniq in enumerate(uniqCols[key]):\n",
    "        keysToIndex[key][uniq]=i+1 #0 is not found\n",
    "keysToIndex.keys()"
   ]
  },
  {
   "cell_type": "code",
   "execution_count": null,
   "metadata": {},
   "outputs": [],
   "source": [
    "with open('keysToIndex.json', 'w') as file:\n",
    "     file.write(json.dumps(keysToIndex))"
   ]
  },
  {
   "cell_type": "code",
   "execution_count": null,
   "metadata": {},
   "outputs": [],
   "source": [
    "dataCats=fullData[cols['cat']].copy()\n",
    "trainCats=fullTrain[cols['cat']].copy()\n",
    "testCats=fullTest[cols['cat']].copy()\n",
    "for column in cols['cat']:\n",
    "    dataCats[column]=dataCats[column].map(keysToIndex[column])\n",
    "    trainCats[column]=trainCats[column].map(keysToIndex[column])\n",
    "    testCats[column]=testCats[column].map(keysToIndex[column])"
   ]
  },
  {
   "cell_type": "code",
   "execution_count": null,
   "metadata": {},
   "outputs": [],
   "source": [
    "fullData[cols['cat']]=dataCats\n",
    "fullTrain[cols['cat']]=trainCats\n",
    "fullTest[cols['cat']]=testCats"
   ]
  },
  {
   "cell_type": "code",
   "execution_count": null,
   "metadata": {},
   "outputs": [],
   "source": [
    "fullData.to_csv(path/'train'/'normCatData.csv',index=False)\n",
    "fullTrain.to_csv(path/'train'/'normCatTrain.csv',index=False)\n",
    "fullTest.to_csv(path/'train'/'normCatTest.csv',index=False)"
   ]
  },
  {
   "cell_type": "markdown",
   "metadata": {},
   "source": [
    "## Test Data Exploration"
   ]
  },
  {
   "cell_type": "code",
   "execution_count": null,
   "metadata": {},
   "outputs": [],
   "source": [
    "fullTrain=path/'train'/'train.csv'\n",
    "fullTest=path/'test'/'test.csv'\n",
    "fullTrain=pd.read_csv(fullTrain)\n",
    "fullTest=pd.read_csv(fullTest)"
   ]
  },
  {
   "cell_type": "code",
   "execution_count": null,
   "metadata": {},
   "outputs": [],
   "source": [
    "fullTest"
   ]
  },
  {
   "cell_type": "code",
   "execution_count": null,
   "metadata": {},
   "outputs": [],
   "source": [
    "uniqTrain = uniquesInDf(fullTrain)\n",
    "uniqTest = uniquesInDf(fullTest)"
   ]
  },
  {
   "cell_type": "code",
   "execution_count": null,
   "metadata": {},
   "outputs": [],
   "source": [
    "uniqTrain['RescuerID']"
   ]
  },
  {
   "cell_type": "code",
   "execution_count": null,
   "metadata": {},
   "outputs": [],
   "source": [
    "print(len(fullTest),len(fullTest.join(fullTrain,on='RescuerID',rsuffix='_rain',how='inner')))"
   ]
  },
  {
   "cell_type": "markdown",
   "metadata": {},
   "source": [
    "Found here that RescuerId is different in train/test datasets. Must split this out as well when creating validation dataset"
   ]
  },
  {
   "cell_type": "markdown",
   "metadata": {},
   "source": [
    "## Data Loading for Initial Embeddings"
   ]
  },
  {
   "cell_type": "markdown",
   "metadata": {},
   "source": [
    "Trying to find an effective way to pretrain the embeddings for the categorical variables. "
   ]
  },
  {
   "cell_type": "code",
   "execution_count": null,
   "metadata": {},
   "outputs": [],
   "source": [
    "normalPath=path/'train'/'normCatData.csv'\n",
    "fullData=pd.read_csv(normalPath)\n",
    "valid=fullData.sample(frac=0.2, random_state=45321)\n",
    "train=fullData.drop(valid.index)\n",
    "[len(train),len(valid),len(valid)/len(train),len(fullData)]"
   ]
  },
  {
   "cell_type": "code",
   "execution_count": null,
   "metadata": {},
   "outputs": [],
   "source": [
    "uniq_cols = uniquesInDf(fullData)\n",
    "print(uniq_cols.keys())"
   ]
  },
  {
   "cell_type": "code",
   "execution_count": null,
   "metadata": {
    "scrolled": true
   },
   "outputs": [],
   "source": [
    "train.columns"
   ]
  },
  {
   "cell_type": "code",
   "execution_count": null,
   "metadata": {},
   "outputs": [],
   "source": [
    "class PetDataset(Dataset):\n",
    "    def __init__(self,cats,labels):\n",
    "        self.cats=cats\n",
    "        self.labels=labels\n",
    "        if(len(self.cats)!=len(self.labels)):\n",
    "            raise ValueError('Labels not same length as inputs!')\n",
    "    def __len__(self):\n",
    "        return len(self.cats)\n",
    "    def __getitem__(self,idx):\n",
    "        return torch.from_numpy(self.cats[idx]),torch.FloatTensor(self.labels[idx])"
   ]
  },
  {
   "cell_type": "code",
   "execution_count": null,
   "metadata": {},
   "outputs": [],
   "source": [
    "embedCont=cols['cont'].copy()\n",
    "embedCont"
   ]
  },
  {
   "cell_type": "code",
   "execution_count": null,
   "metadata": {},
   "outputs": [],
   "source": [
    "trainDs=PetDataset(train[cols['cat']].values,train[embedCont].values)\n",
    "validDs=PetDataset(valid[cols['cat']].values,valid[embedCont].values)\n",
    "trainDs[0]"
   ]
  },
  {
   "cell_type": "code",
   "execution_count": null,
   "metadata": {},
   "outputs": [],
   "source": [
    "trainDl=DataLoader(trainDs, batch_size=512,shuffle=True, num_workers=4)\n",
    "validDl=DataLoader(validDs, batch_size=512,shuffle=False, num_workers=4)"
   ]
  },
  {
   "cell_type": "markdown",
   "metadata": {
    "heading_collapsed": true
   },
   "source": [
    "## Pretraining Embeddings"
   ]
  },
  {
   "cell_type": "code",
   "execution_count": null,
   "metadata": {
    "hidden": true
   },
   "outputs": [],
   "source": [
    "#Simple \"deep\" linear model for training embeddings\n",
    "class SimpleLinearModel(nn.Module):\n",
    "    def __init__(self,cols,uniq_cols):\n",
    "        super(SimpleLinearModel, self).__init__()\n",
    "        embeds=[]\n",
    "        embed_sz=0\n",
    "        for cat in cols['cat']:\n",
    "            embed_sz+=max(min(len(uniq_cols[cat]),50),4)\n",
    "            embeds.append(nn.Sequential(nn.Embedding(len(uniq_cols[cat])+1,max(min(len(uniq_cols[cat]),50),4)),nn.Dropout(0.2)))\n",
    "        self.embeds=nn.ModuleList(embeds)\n",
    "        self.bn1=nn.BatchNorm1d(embed_sz)\n",
    "        self.l1=nn.Linear(embed_sz,100)#+len(cols['cont']\n",
    "        self.relu1=nn.ReLU()\n",
    "        self.bn2=nn.BatchNorm1d(self.l1.out_features)\n",
    "        self.dp1=nn.Dropout(p=0.5)\n",
    "        self.l2=nn.Linear(self.l1.out_features,5)\n",
    "    def forward(self,cat):\n",
    "        x=[e(cat[:,i]) for i,e in enumerate(self.embeds)]\n",
    "        x=torch.cat(x,1)\n",
    "        #x=torch.cat([x,cont],1)\n",
    "        x=self.bn1(x)\n",
    "        x=self.l1(x)\n",
    "        x=self.relu1(x)\n",
    "        x=self.bn2(x)\n",
    "        x=self.dp1(x)\n",
    "        return self.l2(x)"
   ]
  },
  {
   "cell_type": "code",
   "execution_count": null,
   "metadata": {
    "hidden": true
   },
   "outputs": [],
   "source": [
    "embedCols=cols.copy()"
   ]
  },
  {
   "cell_type": "code",
   "execution_count": null,
   "metadata": {
    "hidden": true
   },
   "outputs": [],
   "source": [
    "embedCols['cont']=embedCont"
   ]
  },
  {
   "cell_type": "code",
   "execution_count": null,
   "metadata": {
    "hidden": true
   },
   "outputs": [],
   "source": [
    "model=SimpleLinearModel(embedCols,uniq_cols)"
   ]
  },
  {
   "cell_type": "code",
   "execution_count": null,
   "metadata": {
    "hidden": true
   },
   "outputs": [],
   "source": [
    "optimizer=torch.optim.Adam(model.parameters(), lr=0.01,weight_decay=0.01)"
   ]
  },
  {
   "cell_type": "code",
   "execution_count": null,
   "metadata": {
    "hidden": true
   },
   "outputs": [],
   "source": [
    "criterion=nn.MSELoss()"
   ]
  },
  {
   "cell_type": "code",
   "execution_count": null,
   "metadata": {
    "hidden": true
   },
   "outputs": [],
   "source": [
    "train[embedCont].min()\n",
    "train[embedCont].std()"
   ]
  },
  {
   "cell_type": "code",
   "execution_count": null,
   "metadata": {
    "hidden": true
   },
   "outputs": [],
   "source": [
    "db=DataBunch(trainDl,validDl)"
   ]
  },
  {
   "cell_type": "code",
   "execution_count": null,
   "metadata": {
    "hidden": true
   },
   "outputs": [],
   "source": [
    "learn=Learner(data=db,model=model,loss_func=nn.MSELoss(),wd=0.01)"
   ]
  },
  {
   "cell_type": "code",
   "execution_count": null,
   "metadata": {
    "hidden": true
   },
   "outputs": [],
   "source": [
    "print(len(trainDl.dataset))\n",
    "print(len(validDl.dataset))"
   ]
  },
  {
   "cell_type": "code",
   "execution_count": null,
   "metadata": {
    "hidden": true
   },
   "outputs": [],
   "source": [
    "learn.lr_find()\n",
    "learn.recorder.plot()"
   ]
  },
  {
   "cell_type": "code",
   "execution_count": null,
   "metadata": {
    "hidden": true
   },
   "outputs": [],
   "source": [
    "learn.unfreeze()\n",
    "learn.fit_one_cycle(5,1e-1)"
   ]
  },
  {
   "cell_type": "code",
   "execution_count": null,
   "metadata": {
    "hidden": true
   },
   "outputs": [],
   "source": [
    "learn.get_preds()"
   ]
  },
  {
   "cell_type": "code",
   "execution_count": null,
   "metadata": {
    "hidden": true
   },
   "outputs": [],
   "source": [
    "state=learn.model.state_dict()"
   ]
  },
  {
   "cell_type": "code",
   "execution_count": null,
   "metadata": {
    "hidden": true
   },
   "outputs": [],
   "source": [
    "model.load_state_dict(state)"
   ]
  },
  {
   "cell_type": "code",
   "execution_count": null,
   "metadata": {
    "hidden": true
   },
   "outputs": [],
   "source": [
    "with open('embeds.pkl', 'wb') as f:\n",
    "    pkl.dump(learn.model.embeds.state_dict(),f, pkl.HIGHEST_PROTOCOL)"
   ]
  },
  {
   "cell_type": "code",
   "execution_count": null,
   "metadata": {
    "hidden": true
   },
   "outputs": [],
   "source": [
    "for epoch in range(7):  # loop over the dataset multiple times\n",
    "    print('epoch: '+str(epoch))\n",
    "    running_loss = 0.0\n",
    "    training_loss=0.0\n",
    "    for i, data in enumerate(trainDl):\n",
    "        # get the inputs\n",
    "        cats, labels = data\n",
    "        if(len(labels)<=1):\n",
    "            break\n",
    "        # zero the parameter gradients\n",
    "        optimizer.zero_grad()\n",
    "    \n",
    "        # forward + backward + optimize\n",
    "        outputs = model(cats)\n",
    "        loss = criterion(outputs, labels.float())\n",
    "        loss.backward()\n",
    "        optimizer.step()\n",
    "        training_loss += loss.item()\n",
    "        # print statistics\n",
    "        running_loss += loss.item()\n",
    "        if i % 40 == 39:    # print every 2000 mini-batches\n",
    "            print('[%d, %5d] loss: %.3f' %\n",
    "                  (epoch + 1, i + 1, running_loss / 40))\n",
    "            running_loss=0.0\n",
    "    with torch.no_grad():\n",
    "        outputs=torch.Tensor([])\n",
    "        validLabels=torch.FloatTensor([])\n",
    "        for i, data in enumerate(validDl):\n",
    "            cats, labels = data\n",
    "            outputs=torch.cat((outputs,model(cats).squeeze(dim=1)))\n",
    "            validLabels=torch.cat((validLabels,labels.float()))\n",
    "        loss = criterion(outputs, validLabels.float())#torch.unsqueeze(,1))\n",
    "        validLoss = loss.item()\n",
    "        avgDeviation=torch.sum(torch.abs(torch.sub(outputs,validLabels.float())))/len(trainDl.dataset)\n",
    "        numBatches=len(trainDl.dataset)/trainDl.batch_size\n",
    "        print('[%d] training loss: %.3f validation loss: %.3f avgDev: %.3f' %\n",
    "                  (epoch + 1, training_loss/numBatches,validLoss,avgDeviation))\n",
    "            \n",
    "\n",
    "print('Finished Training')"
   ]
  },
  {
   "cell_type": "markdown",
   "metadata": {},
   "source": [
    "## Data Loading"
   ]
  },
  {
   "cell_type": "markdown",
   "metadata": {},
   "source": [
    "The train and test sets do not overlap in rescuerIDs, so splitting based on this value"
   ]
  },
  {
   "cell_type": "code",
   "execution_count": 8,
   "metadata": {},
   "outputs": [
    {
     "data": {
      "text/plain": [
       "[12535, 2458, 0.19609094535301158, 14993]"
      ]
     },
     "execution_count": 8,
     "metadata": {},
     "output_type": "execute_result"
    }
   ],
   "source": [
    "normalPath=path/'train'/'normCatTrain.csv'\n",
    "fullTrain=pd.read_csv(normalPath)\n",
    "fullData=pd.read_csv(path/'train'/'normCatData.csv')\n",
    "validIndex=fullTrain.RescuerID.isin(pd.Series(fullTrain.RescuerID.unique()).sample(frac=0.1845, random_state=12345))\n",
    "valid=fullTrain[validIndex]\n",
    "train=fullTrain.drop(valid.index)\n",
    "[len(train),len(valid),len(valid)/len(train),len(fullTrain)]"
   ]
  },
  {
   "cell_type": "code",
   "execution_count": 9,
   "metadata": {},
   "outputs": [
    {
     "name": "stdout",
     "output_type": "stream",
     "text": [
      "dict_keys(['AdoptionSpeed', 'Age', 'Breed1', 'Breed2', 'Color1', 'Color2', 'Color3', 'Description', 'Dewormed', 'Fee', 'FurLength', 'Gender', 'Health', 'MaturitySize', 'Name', 'PetID', 'PhotoAmt', 'Quantity', 'RescuerID', 'State', 'Sterilized', 'Type', 'Vaccinated', 'VideoAmt'])\n"
     ]
    }
   ],
   "source": [
    "uniq_cols = uniquesInDf(fullData)\n",
    "print(uniq_cols.keys())"
   ]
  },
  {
   "cell_type": "code",
   "execution_count": 10,
   "metadata": {
    "scrolled": true
   },
   "outputs": [
    {
     "data": {
      "text/plain": [
       "Index(['Type', 'Name', 'Age', 'Breed1', 'Breed2', 'Gender', 'Color1', 'Color2',\n",
       "       'Color3', 'MaturitySize', 'FurLength', 'Vaccinated', 'Dewormed',\n",
       "       'Sterilized', 'Health', 'Quantity', 'Fee', 'State', 'RescuerID',\n",
       "       'VideoAmt', 'Description', 'PetID', 'PhotoAmt', 'AdoptionSpeed'],\n",
       "      dtype='object')"
      ]
     },
     "execution_count": 10,
     "metadata": {},
     "output_type": "execute_result"
    }
   ],
   "source": [
    "train.columns"
   ]
  },
  {
   "cell_type": "code",
   "execution_count": 111,
   "metadata": {},
   "outputs": [],
   "source": [
    "class PetDataset(Dataset):\n",
    "    def __init__(self,conts,cats,labels):\n",
    "        self.conts=conts\n",
    "        self.cats=cats\n",
    "        self.x=(conts,cats)\n",
    "        self.labels=labels\n",
    "        if(len(self.conts)!=len(self.cats)):\n",
    "            raise ValueError('Catigorical and continuous variables should be same length')\n",
    "        if(len(self.conts)!=len(self.labels)):\n",
    "            raise ValueError('Labels not same length as inputs!')\n",
    "    def __len__(self):\n",
    "        return len(self.conts)\n",
    "    def __getitem__(self,idx):\n",
    "        return [torch.Tensor(self.conts[idx]),torch.from_numpy(self.cats[idx])],np.float32(self.labels[idx])"
   ]
  },
  {
   "cell_type": "code",
   "execution_count": 112,
   "metadata": {},
   "outputs": [
    {
     "data": {
      "text/plain": [
       "torch.float32"
      ]
     },
     "execution_count": 112,
     "metadata": {},
     "output_type": "execute_result"
    }
   ],
   "source": [
    "torch.Tensor(train['AdoptionSpeed'].values/4).dtype"
   ]
  },
  {
   "cell_type": "code",
   "execution_count": 113,
   "metadata": {},
   "outputs": [
    {
     "data": {
      "text/plain": [
       "([tensor([-0.4211, -0.3905,  0.9607, -0.1630, -0.8167]),\n",
       "  tensor([   2,  181,    1,    1,    1,    7,    1,    1,    1,    2,    2,    2,\n",
       "             1,    3, 3735])],\n",
       " 2.0)"
      ]
     },
     "execution_count": 113,
     "metadata": {},
     "output_type": "execute_result"
    }
   ],
   "source": [
    "trainDs=PetDataset(train[cols['cont']].values,train[cols['cat']].values,train['AdoptionSpeed'].values)\n",
    "validDs=PetDataset(valid[cols['cont']].values,valid[cols['cat']].values,valid['AdoptionSpeed'].values)\n",
    "trainDs[0]"
   ]
  },
  {
   "cell_type": "code",
   "execution_count": 114,
   "metadata": {},
   "outputs": [],
   "source": [
    "trainDl=DataLoader(trainDs, batch_size=12535,shuffle=True, num_workers=4)\n",
    "validDl=DataLoader(validDs, batch_size=128,shuffle=False, num_workers=4)"
   ]
  },
  {
   "cell_type": "code",
   "execution_count": 115,
   "metadata": {},
   "outputs": [],
   "source": [
    "db=DataBunch(trainDl,validDl)"
   ]
  },
  {
   "cell_type": "code",
   "execution_count": 116,
   "metadata": {},
   "outputs": [
    {
     "data": {
      "text/plain": [
       "([tensor([-0.3663, -0.3905,  1.5808, -0.1630,  1.1734]),\n",
       "  tensor([   1,  189,    1,    2,    1,    2,    1,    2,    1,    1,    1,    2,\n",
       "             1,   13, 4108])],\n",
       " 2.0)"
      ]
     },
     "execution_count": 116,
     "metadata": {},
     "output_type": "execute_result"
    }
   ],
   "source": [
    "trainDs[3]"
   ]
  },
  {
   "cell_type": "markdown",
   "metadata": {},
   "source": [
    "## Simple Model"
   ]
  },
  {
   "cell_type": "code",
   "execution_count": 323,
   "metadata": {},
   "outputs": [
    {
     "data": {
      "text/plain": [
       "dict_keys(['AdoptionSpeed', 'Age', 'Breed1', 'Breed2', 'Color1', 'Color2', 'Color3', 'Description', 'Dewormed', 'Fee', 'FurLength', 'Gender', 'Health', 'MaturitySize', 'Name', 'PetID', 'PhotoAmt', 'Quantity', 'RescuerID', 'State', 'Sterilized', 'Type', 'Vaccinated', 'VideoAmt'])"
      ]
     },
     "execution_count": 323,
     "metadata": {},
     "output_type": "execute_result"
    }
   ],
   "source": [
    "uniq_cols.keys()"
   ]
  },
  {
   "cell_type": "code",
   "execution_count": 363,
   "metadata": {},
   "outputs": [],
   "source": [
    "class SimpleLinearModel(nn.Module):\n",
    "    def __init__(self,cols,uniq_cols):\n",
    "        super(SimpleLinearModel, self).__init__()\n",
    "        embeds=[]\n",
    "        embed_sz=0\n",
    "        for cat in cols['cat']:\n",
    "            embed_sz+=max(min(len(uniq_cols[cat]),50),4)\n",
    "            embeds.append(nn.Sequential(nn.Embedding(len(uniq_cols[cat])+1,max(min(len(uniq_cols[cat]),50),4)),\n",
    "                          nn.Dropout(p=0.1)))\n",
    "        self.embeds=nn.ModuleList(embeds)\n",
    "        self.bn1=nn.BatchNorm1d(embed_sz+len(cols['cont']))\n",
    "        self.dp1=nn.Dropout(p=0.2)\n",
    "        self.layers=nn.ModuleList([\n",
    "            nn.Linear(embed_sz+len(cols['cont']),100),\n",
    "            nn.ReLU(),\n",
    "            nn.BatchNorm1d(100),\n",
    "            nn.Dropout(p=0.5),\n",
    "            nn.Linear(embed_sz+len(cols['cont'])+100,50),\n",
    "            nn.ReLU(),\n",
    "            nn.BatchNorm1d(50),\n",
    "            nn.Dropout(p=0.5),\n",
    "            nn.Linear(embed_sz+len(cols['cont'])+100+50,1)\n",
    "        ])\n",
    "    def forward(self,cont,cat):\n",
    "        #cont=x[0]\n",
    "        #cat=x[1]\n",
    "        x=[e(cat[:,i]) for i,e in enumerate(self.embeds)]\n",
    "        x=torch.cat(x,1)\n",
    "        x=torch.cat([x,cont],1)\n",
    "        x=self.bn1(x)\n",
    "        x=self.dp1(x)\n",
    "        lin_in=torch.FloatTensor().cuda()#x.clone()\n",
    "        #first_lin=True\n",
    "        for l in self.layers:\n",
    "            if(isinstance(l,nn.Linear)):\n",
    "                lin_in=torch.cat((lin_in,x),1)\n",
    "                x=l(lin_in)\n",
    "                #lin_cat=range(0,len(lin_out[0])-len(x[0]))\n",
    "                #x=l(x) if(first_lin) else l(torch.cat([x,lin_out[:,lin_cat]],1))\n",
    "                #x=l(x) if(first_lin) else l(torch.cat([x,lin_out],1))\n",
    "                #lin_out=torch.cat([x,lin_out],1)\n",
    "                #first_lin=False\n",
    "            else:\n",
    "                x=l(x)\n",
    "        return torch.squeeze(torch.sigmoid(x.mul(2)).mul(5),1)"
   ]
  },
  {
   "cell_type": "markdown",
   "metadata": {},
   "source": [
    "dmesg for cuda errors"
   ]
  },
  {
   "cell_type": "code",
   "execution_count": 364,
   "metadata": {},
   "outputs": [
    {
     "name": "stdout",
     "output_type": "stream",
     "text": [
      "[2768422.679976] hid-generic 0003:1532:0209.000E: input,hidraw1: USB HID v1.11 Keyboard [Razer Razer BlackWidow Tournament Edition Chroma] on usb-0000:00:1d.0-1.1/input0\r\n",
      "[2768422.681178] input: Razer Razer BlackWidow Tournament Edition Chroma as /devices/pci0000:00/0000:00:1d.0/usb2/2-1/2-1.1/2-1.1:1.1/0003:1532:0209.000F/input/input26\r\n",
      "[2768422.739962] hid-generic 0003:1532:0209.000F: input,hidraw2: USB HID v1.11 Keyboard [Razer Razer BlackWidow Tournament Edition Chroma] on usb-0000:00:1d.0-1.1/input1\r\n",
      "[2768422.740865] input: Razer Razer BlackWidow Tournament Edition Chroma as /devices/pci0000:00/0000:00:1d.0/usb2/2-1/2-1.1/2-1.1:1.2/0003:1532:0209.0010/input/input27\r\n",
      "[2768422.741039] hid-generic 0003:1532:0209.0010: input,hidraw3: USB HID v1.11 Mouse [Razer Razer BlackWidow Tournament Edition Chroma] on usb-0000:00:1d.0-1.1/input2\r\n"
     ]
    }
   ],
   "source": [
    "!dmesg | tail -n 5"
   ]
  },
  {
   "cell_type": "code",
   "execution_count": 365,
   "metadata": {},
   "outputs": [],
   "source": [
    "model=SimpleLinearModel(cols,uniq_cols).cuda()"
   ]
  },
  {
   "cell_type": "code",
   "execution_count": 366,
   "metadata": {},
   "outputs": [],
   "source": [
    "embeds=pkl.load(open('embeds.pkl',mode='rb'))"
   ]
  },
  {
   "cell_type": "code",
   "execution_count": 367,
   "metadata": {},
   "outputs": [],
   "source": [
    "model.embeds.load_state_dict(embeds)"
   ]
  },
  {
   "cell_type": "code",
   "execution_count": 368,
   "metadata": {},
   "outputs": [],
   "source": [
    "optimizer=torch.optim.Adam(model.parameters(), lr=0.01,weight_decay=0.1, betas=(0.9,0.99))"
   ]
  },
  {
   "cell_type": "code",
   "execution_count": 369,
   "metadata": {},
   "outputs": [],
   "source": [
    "criterion=nn.MSELoss()#partial(quadratic_weighted_kappa, min_rating=None, max_rating=None)"
   ]
  },
  {
   "cell_type": "code",
   "execution_count": 370,
   "metadata": {},
   "outputs": [],
   "source": [
    "learn=Learner(data=db,model=model,loss_func=nn.MSELoss(),metrics=QWK(quadratic_weighted_kappa),wd=0.01)"
   ]
  },
  {
   "cell_type": "code",
   "execution_count": 371,
   "metadata": {},
   "outputs": [],
   "source": [
    "layer_groups = [model.embeds,\n",
    "    nn.ModuleList([model.bn1,model.dp1,model.layers])]\n",
    "learn.layer_groups=layer_groups"
   ]
  },
  {
   "cell_type": "code",
   "execution_count": 372,
   "metadata": {},
   "outputs": [],
   "source": [
    "learn.freeze()"
   ]
  },
  {
   "cell_type": "code",
   "execution_count": 374,
   "metadata": {
    "scrolled": true
   },
   "outputs": [
    {
     "name": "stdout",
     "output_type": "stream",
     "text": [
      "LR Finder is complete, type {learner_name}.recorder.plot() to see the graph.\n"
     ]
    },
    {
     "data": {
      "image/png": "[encoded data removed]",
      "text/plain": [
       "<Figure size 432x288 with 1 Axes>"
      ]
     },
     "metadata": {
      "needs_background": "light"
     },
     "output_type": "display_data"
    }
   ],
   "source": [
    "learn.lr_find(num_it=100)\n",
    "learn.recorder.plot()"
   ]
  },
  {
   "cell_type": "code",
   "execution_count": 375,
   "metadata": {
    "scrolled": true
   },
   "outputs": [
    {
     "data": {
      "text/html": [
       "Total time: 00:04 <p><table style='width:300px; margin-bottom:10px'>\n",
       "  <tr>\n",
       "    <th>epoch</th>\n",
       "    <th>train_loss</th>\n",
       "    <th>valid_loss</th>\n",
       "    <th>quadratic_weighted_kappa</th>\n",
       "  </tr>\n",
       "  <tr>\n",
       "    <th>1</th>\n",
       "    <th>2.047707</th>\n",
       "    <th>1.758692</th>\n",
       "    <th>-0.023624</th>\n",
       "  </tr>\n",
       "  <tr>\n",
       "    <th>2</th>\n",
       "    <th>1.982675</th>\n",
       "    <th>1.552226</th>\n",
       "    <th>0.122428</th>\n",
       "  </tr>\n",
       "  <tr>\n",
       "    <th>3</th>\n",
       "    <th>1.918812</th>\n",
       "    <th>1.440974</th>\n",
       "    <th>0.118942</th>\n",
       "  </tr>\n",
       "  <tr>\n",
       "    <th>4</th>\n",
       "    <th>1.805478</th>\n",
       "    <th>1.433580</th>\n",
       "    <th>0.114114</th>\n",
       "  </tr>\n",
       "</table>\n"
      ],
      "text/plain": [
       "<IPython.core.display.HTML object>"
      ]
     },
     "metadata": {},
     "output_type": "display_data"
    }
   ],
   "source": [
    "learn.fit_one_cycle(4,1e-2)"
   ]
  },
  {
   "cell_type": "code",
   "execution_count": 376,
   "metadata": {},
   "outputs": [],
   "source": [
    "learn.unfreeze()"
   ]
  },
  {
   "cell_type": "code",
   "execution_count": null,
   "metadata": {},
   "outputs": [
    {
     "data": {
      "text/html": [
       "\n",
       "    <div>\n",
       "        <style>\n",
       "            /* Turns off some styling */\n",
       "            progress {\n",
       "                /* gets rid of default border in Firefox and Opera. */\n",
       "                border: none;\n",
       "                /* Needs to be in here for Safari polyfill so background images work as expected. */\n",
       "                background-size: auto;\n",
       "            }\n",
       "            .progress-bar-interrupted, .progress-bar-interrupted::-webkit-progress-bar {\n",
       "                background: #F44336;\n",
       "            }\n",
       "        </style>\n",
       "      <progress value='88' class='' max='100', style='width:300px; height:20px; vertical-align: middle;'></progress>\n",
       "      88.00% [88/100 01:13<00:10]\n",
       "    </div>\n",
       "    \n",
       "<table style='width:300px; margin-bottom:10px'>\n",
       "  <tr>\n",
       "    <th>epoch</th>\n",
       "    <th>train_loss</th>\n",
       "    <th>valid_loss</th>\n",
       "    <th>quadratic_weighted_kappa</th>\n",
       "  </tr>\n",
       "  <tr>\n",
       "    <th>1</th>\n",
       "    <th>1.310935</th>\n",
       "  </tr>\n",
       "  <tr>\n",
       "    <th>2</th>\n",
       "    <th>1.312250</th>\n",
       "  </tr>\n",
       "  <tr>\n",
       "    <th>3</th>\n",
       "    <th>1.309006</th>\n",
       "  </tr>\n",
       "  <tr>\n",
       "    <th>4</th>\n",
       "    <th>1.309322</th>\n",
       "  </tr>\n",
       "  <tr>\n",
       "    <th>5</th>\n",
       "    <th>1.309105</th>\n",
       "  </tr>\n",
       "  <tr>\n",
       "    <th>6</th>\n",
       "    <th>1.309180</th>\n",
       "  </tr>\n",
       "  <tr>\n",
       "    <th>7</th>\n",
       "    <th>1.309217</th>\n",
       "  </tr>\n",
       "  <tr>\n",
       "    <th>8</th>\n",
       "    <th>1.308425</th>\n",
       "  </tr>\n",
       "  <tr>\n",
       "    <th>9</th>\n",
       "    <th>1.308725</th>\n",
       "  </tr>\n",
       "  <tr>\n",
       "    <th>10</th>\n",
       "    <th>1.309527</th>\n",
       "  </tr>\n",
       "  <tr>\n",
       "    <th>11</th>\n",
       "    <th>1.309350</th>\n",
       "  </tr>\n",
       "  <tr>\n",
       "    <th>12</th>\n",
       "    <th>1.309251</th>\n",
       "  </tr>\n",
       "  <tr>\n",
       "    <th>13</th>\n",
       "    <th>1.309703</th>\n",
       "  </tr>\n",
       "  <tr>\n",
       "    <th>14</th>\n",
       "    <th>1.309097</th>\n",
       "  </tr>\n",
       "  <tr>\n",
       "    <th>15</th>\n",
       "    <th>1.309293</th>\n",
       "  </tr>\n",
       "  <tr>\n",
       "    <th>16</th>\n",
       "    <th>1.309524</th>\n",
       "  </tr>\n",
       "  <tr>\n",
       "    <th>17</th>\n",
       "    <th>1.309651</th>\n",
       "  </tr>\n",
       "  <tr>\n",
       "    <th>18</th>\n",
       "    <th>1.309947</th>\n",
       "  </tr>\n",
       "  <tr>\n",
       "    <th>19</th>\n",
       "    <th>1.309995</th>\n",
       "  </tr>\n",
       "  <tr>\n",
       "    <th>20</th>\n",
       "    <th>1.309522</th>\n",
       "  </tr>\n",
       "  <tr>\n",
       "    <th>21</th>\n",
       "    <th>1.309964</th>\n",
       "  </tr>\n",
       "  <tr>\n",
       "    <th>22</th>\n",
       "    <th>1.310084</th>\n",
       "  </tr>\n",
       "  <tr>\n",
       "    <th>23</th>\n",
       "    <th>1.309786</th>\n",
       "  </tr>\n",
       "  <tr>\n",
       "    <th>24</th>\n",
       "    <th>1.309047</th>\n",
       "  </tr>\n",
       "  <tr>\n",
       "    <th>25</th>\n",
       "    <th>1.308690</th>\n",
       "  </tr>\n",
       "  <tr>\n",
       "    <th>26</th>\n",
       "    <th>1.308760</th>\n",
       "  </tr>\n",
       "  <tr>\n",
       "    <th>27</th>\n",
       "    <th>1.308954</th>\n",
       "  </tr>\n",
       "  <tr>\n",
       "    <th>28</th>\n",
       "    <th>1.308778</th>\n",
       "  </tr>\n",
       "  <tr>\n",
       "    <th>29</th>\n",
       "    <th>1.308842</th>\n",
       "  </tr>\n",
       "  <tr>\n",
       "    <th>30</th>\n",
       "    <th>1.308837</th>\n",
       "  </tr>\n",
       "  <tr>\n",
       "    <th>31</th>\n",
       "    <th>1.308251</th>\n",
       "  </tr>\n",
       "  <tr>\n",
       "    <th>32</th>\n",
       "    <th>1.308327</th>\n",
       "  </tr>\n",
       "  <tr>\n",
       "    <th>33</th>\n",
       "    <th>1.307996</th>\n",
       "  </tr>\n",
       "  <tr>\n",
       "    <th>34</th>\n",
       "    <th>1.307107</th>\n",
       "  </tr>\n",
       "  <tr>\n",
       "    <th>35</th>\n",
       "    <th>1.306907</th>\n",
       "  </tr>\n",
       "  <tr>\n",
       "    <th>36</th>\n",
       "    <th>1.306257</th>\n",
       "  </tr>\n",
       "  <tr>\n",
       "    <th>37</th>\n",
       "    <th>1.305639</th>\n",
       "  </tr>\n",
       "  <tr>\n",
       "    <th>38</th>\n",
       "    <th>1.304912</th>\n",
       "  </tr>\n",
       "  <tr>\n",
       "    <th>39</th>\n",
       "    <th>1.303954</th>\n",
       "  </tr>\n",
       "  <tr>\n",
       "    <th>40</th>\n",
       "    <th>1.302858</th>\n",
       "  </tr>\n",
       "  <tr>\n",
       "    <th>41</th>\n",
       "    <th>1.301885</th>\n",
       "  </tr>\n",
       "  <tr>\n",
       "    <th>42</th>\n",
       "    <th>1.300577</th>\n",
       "  </tr>\n",
       "  <tr>\n",
       "    <th>43</th>\n",
       "    <th>1.299086</th>\n",
       "  </tr>\n",
       "  <tr>\n",
       "    <th>44</th>\n",
       "    <th>1.297378</th>\n",
       "  </tr>\n",
       "  <tr>\n",
       "    <th>45</th>\n",
       "    <th>1.295717</th>\n",
       "  </tr>\n",
       "  <tr>\n",
       "    <th>46</th>\n",
       "    <th>1.293869</th>\n",
       "  </tr>\n",
       "  <tr>\n",
       "    <th>47</th>\n",
       "    <th>1.291878</th>\n",
       "  </tr>\n",
       "  <tr>\n",
       "    <th>48</th>\n",
       "    <th>1.289910</th>\n",
       "  </tr>\n",
       "  <tr>\n",
       "    <th>49</th>\n",
       "    <th>1.288146</th>\n",
       "  </tr>\n",
       "  <tr>\n",
       "    <th>50</th>\n",
       "    <th>1.286400</th>\n",
       "  </tr>\n",
       "  <tr>\n",
       "    <th>51</th>\n",
       "    <th>1.285546</th>\n",
       "  </tr>\n",
       "  <tr>\n",
       "    <th>52</th>\n",
       "    <th>1.285004</th>\n",
       "  </tr>\n",
       "  <tr>\n",
       "    <th>53</th>\n",
       "    <th>1.285152</th>\n",
       "  </tr>\n",
       "  <tr>\n",
       "    <th>54</th>\n",
       "    <th>1.286107</th>\n",
       "  </tr>\n",
       "  <tr>\n",
       "    <th>55</th>\n",
       "    <th>1.287404</th>\n",
       "  </tr>\n",
       "  <tr>\n",
       "    <th>56</th>\n",
       "    <th>1.289285</th>\n",
       "  </tr>\n",
       "  <tr>\n",
       "    <th>57</th>\n",
       "    <th>1.290869</th>\n",
       "  </tr>\n",
       "  <tr>\n",
       "    <th>58</th>\n",
       "    <th>1.292315</th>\n",
       "  </tr>\n",
       "  <tr>\n",
       "    <th>59</th>\n",
       "    <th>1.293010</th>\n",
       "  </tr>\n",
       "  <tr>\n",
       "    <th>60</th>\n",
       "    <th>1.292405</th>\n",
       "  </tr>\n",
       "  <tr>\n",
       "    <th>61</th>\n",
       "    <th>1.290728</th>\n",
       "  </tr>\n",
       "  <tr>\n",
       "    <th>62</th>\n",
       "    <th>1.289067</th>\n",
       "  </tr>\n",
       "  <tr>\n",
       "    <th>63</th>\n",
       "    <th>1.288900</th>\n",
       "  </tr>\n",
       "  <tr>\n",
       "    <th>64</th>\n",
       "    <th>1.289657</th>\n",
       "  </tr>\n",
       "  <tr>\n",
       "    <th>65</th>\n",
       "    <th>1.290006</th>\n",
       "  </tr>\n",
       "  <tr>\n",
       "    <th>66</th>\n",
       "    <th>1.288342</th>\n",
       "  </tr>\n",
       "  <tr>\n",
       "    <th>67</th>\n",
       "    <th>1.285918</th>\n",
       "  </tr>\n",
       "  <tr>\n",
       "    <th>68</th>\n",
       "    <th>1.284397</th>\n",
       "  </tr>\n",
       "  <tr>\n",
       "    <th>69</th>\n",
       "    <th>1.282983</th>\n",
       "  </tr>\n",
       "  <tr>\n",
       "    <th>70</th>\n",
       "    <th>1.279422</th>\n",
       "  </tr>\n",
       "  <tr>\n",
       "    <th>71</th>\n",
       "    <th>1.274534</th>\n",
       "  </tr>\n",
       "  <tr>\n",
       "    <th>72</th>\n",
       "    <th>1.269430</th>\n",
       "  </tr>\n",
       "  <tr>\n",
       "    <th>73</th>\n",
       "    <th>1.263556</th>\n",
       "  </tr>\n",
       "  <tr>\n",
       "    <th>74</th>\n",
       "    <th>1.255300</th>\n",
       "  </tr>\n",
       "  <tr>\n",
       "    <th>75</th>\n",
       "    <th>1.247668</th>\n",
       "  </tr>\n",
       "  <tr>\n",
       "    <th>76</th>\n",
       "    <th>1.239934</th>\n",
       "  </tr>\n",
       "  <tr>\n",
       "    <th>77</th>\n",
       "    <th>1.230072</th>\n",
       "  </tr>\n",
       "  <tr>\n",
       "    <th>78</th>\n",
       "    <th>1.218783</th>\n",
       "  </tr>\n",
       "  <tr>\n",
       "    <th>79</th>\n",
       "    <th>1.208623</th>\n",
       "  </tr>\n",
       "  <tr>\n",
       "    <th>80</th>\n",
       "    <th>1.209062</th>\n",
       "  </tr>\n",
       "  <tr>\n",
       "    <th>81</th>\n",
       "    <th>1.233691</th>\n",
       "  </tr>\n",
       "  <tr>\n",
       "    <th>82</th>\n",
       "    <th>1.245268</th>\n",
       "  </tr>\n",
       "  <tr>\n",
       "    <th>83</th>\n",
       "    <th>1.263492</th>\n",
       "  </tr>\n",
       "  <tr>\n",
       "    <th>84</th>\n",
       "    <th>1.369500</th>\n",
       "  </tr>\n",
       "  <tr>\n",
       "    <th>85</th>\n",
       "    <th>1.410477</th>\n",
       "  </tr>\n",
       "  <tr>\n",
       "    <th>86</th>\n",
       "    <th>1.492797</th>\n",
       "  </tr>\n",
       "  <tr>\n",
       "    <th>87</th>\n",
       "    <th>1.576041</th>\n",
       "  </tr>\n",
       "  <tr>\n",
       "    <th>88</th>\n",
       "    <th>1.645866</th>\n",
       "  </tr>\n",
       "</table>\n",
       "\n",
       "\n",
       "    <div>\n",
       "        <style>\n",
       "            /* Turns off some styling */\n",
       "            progress {\n",
       "                /* gets rid of default border in Firefox and Opera. */\n",
       "                border: none;\n",
       "                /* Needs to be in here for Safari polyfill so background images work as expected. */\n",
       "                background-size: auto;\n",
       "            }\n",
       "            .progress-bar-interrupted, .progress-bar-interrupted::-webkit-progress-bar {\n",
       "                background: #F44336;\n",
       "            }\n",
       "        </style>\n",
       "      <progress value='0' class='' max='1', style='width:300px; height:20px; vertical-align: middle;'></progress>\n",
       "      0.00% [0/1 00:00<00:00]\n",
       "    </div>\n",
       "    "
      ],
      "text/plain": [
       "<IPython.core.display.HTML object>"
      ]
     },
     "metadata": {},
     "output_type": "display_data"
    }
   ],
   "source": [
    "learn.lr_find()\n",
    "learn.recorder.plot()"
   ]
  },
  {
   "cell_type": "code",
   "execution_count": 379,
   "metadata": {
    "scrolled": true
   },
   "outputs": [
    {
     "data": {
      "text/html": [
       "Total time: 00:10 <p><table style='width:300px; margin-bottom:10px'>\n",
       "  <tr>\n",
       "    <th>epoch</th>\n",
       "    <th>train_loss</th>\n",
       "    <th>valid_loss</th>\n",
       "    <th>quadratic_weighted_kappa</th>\n",
       "  </tr>\n",
       "  <tr>\n",
       "    <th>1</th>\n",
       "    <th>1.444070</th>\n",
       "    <th>1.416943</th>\n",
       "    <th>0.113701</th>\n",
       "  </tr>\n",
       "  <tr>\n",
       "    <th>2</th>\n",
       "    <th>1.415722</th>\n",
       "    <th>1.545848</th>\n",
       "    <th>0.109669</th>\n",
       "  </tr>\n",
       "  <tr>\n",
       "    <th>3</th>\n",
       "    <th>1.443016</th>\n",
       "    <th>1.534337</th>\n",
       "    <th>0.054887</th>\n",
       "  </tr>\n",
       "  <tr>\n",
       "    <th>4</th>\n",
       "    <th>1.452183</th>\n",
       "    <th>1.380640</th>\n",
       "    <th>0.172711</th>\n",
       "  </tr>\n",
       "  <tr>\n",
       "    <th>5</th>\n",
       "    <th>1.452113</th>\n",
       "    <th>1.330015</th>\n",
       "    <th>0.176285</th>\n",
       "  </tr>\n",
       "  <tr>\n",
       "    <th>6</th>\n",
       "    <th>1.428971</th>\n",
       "    <th>1.337310</th>\n",
       "    <th>0.164085</th>\n",
       "  </tr>\n",
       "  <tr>\n",
       "    <th>7</th>\n",
       "    <th>1.407254</th>\n",
       "    <th>1.351892</th>\n",
       "    <th>0.169920</th>\n",
       "  </tr>\n",
       "  <tr>\n",
       "    <th>8</th>\n",
       "    <th>1.394796</th>\n",
       "    <th>1.350503</th>\n",
       "    <th>0.170314</th>\n",
       "  </tr>\n",
       "</table>\n"
      ],
      "text/plain": [
       "<IPython.core.display.HTML object>"
      ]
     },
     "metadata": {},
     "output_type": "display_data"
    }
   ],
   "source": [
    "learn.fit_one_cycle(8,slice(2e-2/1000.0,2e-2))"
   ]
  },
  {
   "cell_type": "code",
   "execution_count": 195,
   "metadata": {},
   "outputs": [
    {
     "data": {
      "text/plain": [
       "[tensor([2.8592, 3.0197, 2.6856,  ..., 1.9711, 2.4012, 2.7027]),\n",
       " tensor([2., 2., 2.,  ..., 2., 4., 3.])]"
      ]
     },
     "execution_count": 195,
     "metadata": {},
     "output_type": "execute_result"
    }
   ],
   "source": [
    "learn.get_preds(DatasetType.Train)"
   ]
  },
  {
   "cell_type": "code",
   "execution_count": 306,
   "metadata": {},
   "outputs": [
    {
     "data": {
      "image/png": "[encoded data removed]",
      "text/plain": [
       "<Figure size 432x288 with 1 Axes>"
      ]
     },
     "metadata": {
      "needs_background": "light"
     },
     "output_type": "display_data"
    }
   ],
   "source": [
    "learn.recorder.plot_lr()"
   ]
  },
  {
   "cell_type": "code",
   "execution_count": 307,
   "metadata": {},
   "outputs": [
    {
     "data": {
      "image/png": "[encoded data removed]",
      "text/plain": [
       "<Figure size 432x288 with 1 Axes>"
      ]
     },
     "metadata": {
      "needs_background": "light"
     },
     "output_type": "display_data"
    }
   ],
   "source": [
    "learn.recorder.plot_losses()"
   ]
  },
  {
   "cell_type": "markdown",
   "metadata": {},
   "source": [
    "1. 0.373\n",
    "2. 0.433\n",
    "3. 0.444 was without dropout\n",
    "4. 0.349 after removing rescuerId :< 395 place out of 795... have not yet split by rescuerID\n",
    "5. 0.328 after splitting training and validation by the rescuerID... lowering test set to give more training data next\n",
    "6. 0.350 after reclaiming some test data, seems splitting by rescuerID didn't really effect results so much, interesting. Removing the data still a problem. Should implement based on creating an identifier for rescuerID, then using 50 element linear layer representation as an embedding\n",
    "7. 0.260 with loaded frozen embeddings \n",
    "8. 0.319 after allowing training embeddings, was overfitting to start though\n",
    "9. 0.349 Better training with new embeddings!!! Lots of improvements in training regimand that can be made"
   ]
  },
  {
   "cell_type": "markdown",
   "metadata": {},
   "source": [
    "## With Image"
   ]
  },
  {
   "cell_type": "markdown",
   "metadata": {},
   "source": [
    "--- This is just all incomplete ---"
   ]
  },
  {
   "cell_type": "markdown",
   "metadata": {},
   "source": [
    "Currently have a model that can get 0.444, time to see if images will help"
   ]
  },
  {
   "cell_type": "code",
   "execution_count": null,
   "metadata": {},
   "outputs": [],
   "source": [
    "originalData = pd.read_csv(path/'train'/'train.csv')"
   ]
  },
  {
   "cell_type": "code",
   "execution_count": null,
   "metadata": {},
   "outputs": [],
   "source": [
    "originalData[['PetID','PhotoAmt']].groupby(by='PhotoAmt').count()"
   ]
  },
  {
   "cell_type": "markdown",
   "metadata": {},
   "source": [
    "Most have at least one photo, at most 30"
   ]
  },
  {
   "cell_type": "code",
   "execution_count": 283,
   "metadata": {},
   "outputs": [
    {
     "data": {
      "text/plain": [
       "0    Nibble is a 3+ month old ball of cuteness. He ...\n",
       "1    I just found it alone yesterday near my apartm...\n",
       "2    Their pregnant mother was dumped by her irresp...\n",
       "3    Good guard dog, very alert, active, obedience ...\n",
       "4    This handsome yet cute boy is up for adoption....\n",
       "5    This is a stray kitten that came to my house. ...\n",
       "6    anyone within the area of ipoh or taiping who ...\n",
       "7    Siu Pak just give birth on 13/6/10 to 6puppies...\n",
       "8    healthy and active, feisty kitten found in nei...\n",
       "9    Very manja and gentle stray cat found, we woul...\n",
       "Name: Description, dtype: object"
      ]
     },
     "execution_count": 283,
     "metadata": {},
     "output_type": "execute_result"
    }
   ],
   "source": [
    "fullTrain['Description'][0:10]"
   ]
  },
  {
   "cell_type": "code",
   "execution_count": null,
   "metadata": {},
   "outputs": [],
   "source": []
  }
 ],
 "metadata": {
  "kernelspec": {
   "display_name": "Python 3",
   "language": "python",
   "name": "python3"
  },
  "language_info": {
   "codemirror_mode": {
    "name": "ipython",
    "version": 3
   },
   "file_extension": ".py",
   "mimetype": "text/x-python",
   "name": "python",
   "nbconvert_exporter": "python",
   "pygments_lexer": "ipython3",
   "version": "3.7.2"
  }
 },
 "nbformat": 4,
 "nbformat_minor": 2
}
